{
 "cells": [
  {
   "cell_type": "markdown",
   "metadata": {},
   "source": [
    "### ***`Imports`***"
   ]
  },
  {
   "cell_type": "code",
   "execution_count": 1,
   "metadata": {},
   "outputs": [],
   "source": [
    "import tensorflow as tf\n",
    "from keras.optimizers import RMSprop, Adam, SGD \n",
    "from sklearn.metrics import confusion_matrix\n",
    "from tensorflow.keras.applications import EfficientNetB0\n",
    "from tensorflow.keras.models import Sequential\n",
    "from tensorflow.keras.layers import Dense, GlobalAveragePooling2D\n",
    "from tensorflow.keras.preprocessing.image import ImageDataGenerator"
   ]
  },
  {
   "cell_type": "markdown",
   "metadata": {},
   "source": [
    "##### Hyperparameters"
   ]
  },
  {
   "cell_type": "code",
   "execution_count": 2,
   "metadata": {},
   "outputs": [],
   "source": [
    "IMG_SIZE = 200\n",
    "Batch_Size = 8\n",
    "Learing_Rate = 0.001\n",
    "Epochs = 10"
   ]
  },
  {
   "cell_type": "markdown",
   "metadata": {},
   "source": [
    "##### Data Generation"
   ]
  },
  {
   "cell_type": "code",
   "execution_count": 3,
   "metadata": {},
   "outputs": [],
   "source": [
    "base_dir = 'IMG_CLASSES\\Disease'\n",
    "train_datagen = ImageDataGenerator(\n",
    "    rescale=1./255,\n",
    "    validation_split=0.2\n",
    "    )\n",
    "test_datagen = ImageDataGenerator(rescale=1./255)"
   ]
  },
  {
   "cell_type": "code",
   "execution_count": 4,
   "metadata": {},
   "outputs": [
    {
     "name": "stdout",
     "output_type": "stream",
     "text": [
      "Found 3826 images belonging to 3 classes.\n"
     ]
    }
   ],
   "source": [
    "train_data = train_datagen.flow_from_directory(\n",
    "    base_dir,\n",
    "    shuffle=True,\n",
    "    target_size=(IMG_SIZE, IMG_SIZE),  \n",
    "    batch_size=Batch_Size,\n",
    "    class_mode='categorical', \n",
    "    subset='training',\n",
    "    seed=42\n",
    ")"
   ]
  },
  {
   "cell_type": "code",
   "execution_count": 5,
   "metadata": {},
   "outputs": [
    {
     "name": "stdout",
     "output_type": "stream",
     "text": [
      "Found 955 images belonging to 3 classes.\n"
     ]
    }
   ],
   "source": [
    "val_data = train_datagen.flow_from_directory(\n",
    "    base_dir,\n",
    "    shuffle=True,\n",
    "    target_size=(IMG_SIZE, IMG_SIZE),\n",
    "    batch_size=Batch_Size,\n",
    "    class_mode='categorical',\n",
    "    subset='validation',\n",
    "    seed=42\n",
    ")"
   ]
  },
  {
   "cell_type": "markdown",
   "metadata": {},
   "source": [
    "### ***`Model`***\n"
   ]
  },
  {
   "cell_type": "code",
   "execution_count": 6,
   "metadata": {},
   "outputs": [],
   "source": [
    "base_model = EfficientNetB0(weights=None, include_top=False, input_shape=(IMG_SIZE, IMG_SIZE, 3))\n",
    "\n",
    "model = Sequential()\n",
    "model.add(base_model)\n",
    "model.add(GlobalAveragePooling2D())\n",
    "model.add(Dense(3, activation='softmax'))\n",
    "\n",
    "model.compile(optimizer=RMSprop(learning_rate=Learing_Rate), loss='categorical_crossentropy', metrics=['accuracy'])"
   ]
  },
  {
   "cell_type": "code",
   "execution_count": 7,
   "metadata": {},
   "outputs": [
    {
     "name": "stdout",
     "output_type": "stream",
     "text": [
      "Epoch 1/10\n",
      "478/478 [==============================] - 61s 100ms/step - loss: 1.1019 - accuracy: 0.4903 - val_loss: 1.1918 - val_accuracy: 0.3866\n",
      "Epoch 2/10\n",
      "478/478 [==============================] - 47s 98ms/step - loss: 0.9420 - accuracy: 0.5712 - val_loss: 0.9458 - val_accuracy: 0.5042\n",
      "Epoch 3/10\n",
      "478/478 [==============================] - 48s 99ms/step - loss: 0.8322 - accuracy: 0.6443 - val_loss: 1.2024 - val_accuracy: 0.6197\n",
      "Epoch 4/10\n",
      "478/478 [==============================] - 47s 99ms/step - loss: 0.7804 - accuracy: 0.6716 - val_loss: 1.6028 - val_accuracy: 0.6124\n",
      "Epoch 5/10\n",
      "478/478 [==============================] - 47s 98ms/step - loss: 0.7226 - accuracy: 0.7017 - val_loss: 1.3219 - val_accuracy: 0.5903\n",
      "Epoch 6/10\n",
      "478/478 [==============================] - 47s 99ms/step - loss: 0.6518 - accuracy: 0.7250 - val_loss: 2.2369 - val_accuracy: 0.4947\n",
      "Epoch 7/10\n",
      "478/478 [==============================] - 47s 99ms/step - loss: 0.5921 - accuracy: 0.7530 - val_loss: 1.4381 - val_accuracy: 0.5956\n",
      "Epoch 8/10\n",
      "478/478 [==============================] - 47s 97ms/step - loss: 0.5323 - accuracy: 0.7789 - val_loss: 2.0524 - val_accuracy: 0.5063\n",
      "Epoch 9/10\n",
      "478/478 [==============================] - 47s 98ms/step - loss: 0.4896 - accuracy: 0.8033 - val_loss: 3.2579 - val_accuracy: 0.4937\n",
      "Epoch 10/10\n",
      "478/478 [==============================] - 47s 98ms/step - loss: 0.4152 - accuracy: 0.8363 - val_loss: 1.9603 - val_accuracy: 0.6040\n",
      "120/120 [==============================] - 3s 22ms/step - loss: 1.9613 - accuracy: 0.6042\n",
      "Validation Loss: 1.9613\n",
      "Validation Accuracy: 0.6042\n",
      "Accuracy: 60.42 %\n"
     ]
    }
   ],
   "source": [
    "# If you want to continue training the loaded model:\n",
    "history = model.fit(\n",
    "    train_data,\n",
    "    steps_per_epoch=train_data.samples // train_data.batch_size,  # Adjust based on the number of images in your training set\n",
    "    epochs=Epochs,\n",
    "    validation_data=val_data,\n",
    "    validation_steps=val_data.samples // val_data.batch_size)  # Adjust based on the number of images in your validation set\n",
    "loss, accuracy = model.evaluate(val_data)\n",
    "\n",
    "print(f\"Validation Loss: {loss:.4f}\")\n",
    "print(f\"Validation Accuracy: {accuracy:.4f}\")\n",
    "print(\"Accuracy:\", round(accuracy*100, 2), '%')\n",
    "\n",
    "\n",
    "# Save the model\n",
    "model.save(f'EfficientNet_Disease({accuracy * 100:.2f}%).h5')"
   ]
  }
 ],
 "metadata": {
  "kernelspec": {
   "display_name": "tf",
   "language": "python",
   "name": "python3"
  },
  "language_info": {
   "codemirror_mode": {
    "name": "ipython",
    "version": 3
   },
   "file_extension": ".py",
   "mimetype": "text/x-python",
   "name": "python",
   "nbconvert_exporter": "python",
   "pygments_lexer": "ipython3",
   "version": "3.9.18"
  }
 },
 "nbformat": 4,
 "nbformat_minor": 2
}
