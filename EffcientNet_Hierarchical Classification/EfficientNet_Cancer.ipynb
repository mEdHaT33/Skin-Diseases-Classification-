{
 "cells": [
  {
   "cell_type": "markdown",
   "metadata": {},
   "source": [
    "### ***`Imports`***"
   ]
  },
  {
   "cell_type": "code",
   "execution_count": 1,
   "metadata": {},
   "outputs": [],
   "source": [
    "import tensorflow as tf\n",
    "from keras.optimizers import Adam\n",
    "from sklearn.metrics import confusion_matrix\n",
    "from tensorflow.keras.applications import EfficientNetB0\n",
    "from tensorflow.keras.models import Sequential\n",
    "from tensorflow.keras.layers import Dense, GlobalAveragePooling2D\n",
    "from tensorflow.keras.preprocessing.image import ImageDataGenerator"
   ]
  },
  {
   "cell_type": "markdown",
   "metadata": {},
   "source": [
    "##### Hyperparameters"
   ]
  },
  {
   "cell_type": "code",
   "execution_count": 2,
   "metadata": {},
   "outputs": [],
   "source": [
    "IMG_SIZE = 200\n",
    "Batch_Size = 16\n",
    "Learing_Rate = 0.0001\n",
    "Epochs = 15"
   ]
  },
  {
   "cell_type": "markdown",
   "metadata": {},
   "source": [
    "##### Data Generation"
   ]
  },
  {
   "cell_type": "code",
   "execution_count": 3,
   "metadata": {},
   "outputs": [],
   "source": [
    "base_dir = 'IMG_CLASSES\\Cancer'\n",
    "train_datagen = ImageDataGenerator(\n",
    "    rescale=1./255,\n",
    "    validation_split=0.2\n",
    "    )\n",
    "test_datagen = ImageDataGenerator(rescale=1./255)"
   ]
  },
  {
   "cell_type": "code",
   "execution_count": null,
   "metadata": {},
   "outputs": [],
   "source": [
    "train_data = train_datagen.flow_from_directory(\n",
    "    base_dir,\n",
    "    shuffle=True,\n",
    "    target_size=(IMG_SIZE, IMG_SIZE),  \n",
    "    batch_size=Batch_Size,\n",
    "    class_mode='binary', \n",
    "    subset='training',\n",
    "    seed=42\n",
    ")"
   ]
  },
  {
   "cell_type": "code",
   "execution_count": null,
   "metadata": {},
   "outputs": [
    {
     "name": "stdout",
     "output_type": "stream",
     "text": [
      "Found 2248 images belonging to 2 classes.\n"
     ]
    }
   ],
   "source": [
    "val_data = train_datagen.flow_from_directory(\n",
    "    base_dir,\n",
    "    shuffle=True,\n",
    "    target_size=(IMG_SIZE, IMG_SIZE),\n",
    "    batch_size=Batch_Size,\n",
    "    class_mode='binary',\n",
    "    subset='validation',\n",
    "    seed=42\n",
    ")"
   ]
  },
  {
   "cell_type": "markdown",
   "metadata": {},
   "source": [
    "### ***`Model`***\n"
   ]
  },
  {
   "cell_type": "code",
   "execution_count": 6,
   "metadata": {},
   "outputs": [],
   "source": [
    "base_model = EfficientNetB0(weights=None, include_top=False, input_shape=(IMG_SIZE, IMG_SIZE, 3))\n",
    "\n",
    "model = Sequential()\n",
    "model.add(base_model)\n",
    "model.add(GlobalAveragePooling2D())\n",
    "model.add(Dense(1, activation='sigmoid'))\n",
    "\n",
    "model.compile(optimizer=Adam(learning_rate=Learing_Rate), loss='binary_crossentropy', metrics=['accuracy'])"
   ]
  },
  {
   "cell_type": "code",
   "execution_count": 7,
   "metadata": {},
   "outputs": [
    {
     "name": "stdout",
     "output_type": "stream",
     "text": [
      "Epoch 1/15\n",
      "562/562 [==============================] - 97s 156ms/step - loss: 0.3867 - accuracy: 0.8363 - val_loss: 1.6209 - val_accuracy: 0.5746\n",
      "Epoch 2/15\n",
      "562/562 [==============================] - 86s 153ms/step - loss: 0.2249 - accuracy: 0.9120 - val_loss: 0.5285 - val_accuracy: 0.9205\n",
      "Epoch 3/15\n",
      "562/562 [==============================] - 86s 153ms/step - loss: 0.1754 - accuracy: 0.9356 - val_loss: 0.1398 - val_accuracy: 0.9598\n",
      "Epoch 4/15\n",
      "562/562 [==============================] - 86s 152ms/step - loss: 0.1355 - accuracy: 0.9510 - val_loss: 0.2072 - val_accuracy: 0.9558\n",
      "Epoch 5/15\n",
      "562/562 [==============================] - 86s 153ms/step - loss: 0.1119 - accuracy: 0.9595 - val_loss: 0.1000 - val_accuracy: 0.9710\n",
      "Epoch 6/15\n",
      "562/562 [==============================] - 86s 153ms/step - loss: 0.1057 - accuracy: 0.9624 - val_loss: 0.1245 - val_accuracy: 0.9594\n",
      "Epoch 7/15\n",
      "562/562 [==============================] - 86s 153ms/step - loss: 0.0753 - accuracy: 0.9746 - val_loss: 0.1398 - val_accuracy: 0.9647\n",
      "Epoch 8/15\n",
      "562/562 [==============================] - 86s 153ms/step - loss: 0.0668 - accuracy: 0.9776 - val_loss: 0.1220 - val_accuracy: 0.9629\n",
      "Epoch 9/15\n",
      "562/562 [==============================] - 86s 153ms/step - loss: 0.0579 - accuracy: 0.9813 - val_loss: 0.3388 - val_accuracy: 0.9696\n",
      "Epoch 10/15\n",
      "562/562 [==============================] - 86s 153ms/step - loss: 0.0472 - accuracy: 0.9830 - val_loss: 0.1184 - val_accuracy: 0.9679\n",
      "Epoch 11/15\n",
      "562/562 [==============================] - 86s 153ms/step - loss: 0.0404 - accuracy: 0.9864 - val_loss: 0.1019 - val_accuracy: 0.9777\n",
      "Epoch 12/15\n",
      "562/562 [==============================] - 86s 153ms/step - loss: 0.0410 - accuracy: 0.9880 - val_loss: 17.5120 - val_accuracy: 0.6214\n",
      "Epoch 13/15\n",
      "562/562 [==============================] - 86s 152ms/step - loss: 0.0388 - accuracy: 0.9861 - val_loss: 0.0835 - val_accuracy: 0.9777\n",
      "Epoch 14/15\n",
      "562/562 [==============================] - 86s 153ms/step - loss: 0.0285 - accuracy: 0.9913 - val_loss: 0.1160 - val_accuracy: 0.9696\n",
      "Epoch 15/15\n",
      "562/562 [==============================] - 86s 153ms/step - loss: 0.0277 - accuracy: 0.9911 - val_loss: 0.0869 - val_accuracy: 0.9777\n",
      "141/141 [==============================] - 6s 41ms/step - loss: 0.0866 - accuracy: 0.9778\n",
      "141/141 [==============================] - 7s 40ms/step\n",
      "Validation Loss: 0.0866\n",
      "Validation Accuracy: 0.9778\n",
      "Accuracy: 97.78 %\n",
      "Confusion matrix:\n",
      " [[747 545]\n",
      " [572 384]]\n"
     ]
    }
   ],
   "source": [
    "# If you want to continue training the loaded model:\n",
    "history = model.fit(\n",
    "    train_data,\n",
    "    steps_per_epoch=train_data.samples // train_data.batch_size,  # Adjust based on the number of images in your training set\n",
    "    epochs=Epochs,\n",
    "    validation_data=val_data,\n",
    "    validation_steps=val_data.samples // val_data.batch_size)  # Adjust based on the number of images in your validation set\n",
    "loss, accuracy = model.evaluate(val_data)\n",
    "\n",
    "# Make predictions on the validation set\n",
    "y_true = val_data.classes\n",
    "y_pred_prob = model.predict(val_data)\n",
    "y_pred = (y_pred_prob > 0.75).astype(int)\n",
    "\n",
    "# Compute confusion matrix\n",
    "confusion = confusion_matrix(y_true, y_pred)\n",
    "\n",
    "print(f\"Validation Loss: {loss:.4f}\")\n",
    "print(f\"Validation Accuracy: {accuracy:.4f}\")\n",
    "print(\"Accuracy:\", round(accuracy*100, 2), '%')\n",
    "print(\"Confusion matrix:\\n\", confusion)\n",
    "\n",
    "# Save the model\n",
    "model.save(f'EfficientNet_Binary({accuracy * 100:.2f}%).h5')"
   ]
  }
 ],
 "metadata": {
  "kernelspec": {
   "display_name": "tf",
   "language": "python",
   "name": "python3"
  },
  "language_info": {
   "codemirror_mode": {
    "name": "ipython",
    "version": 3
   },
   "file_extension": ".py",
   "mimetype": "text/x-python",
   "name": "python",
   "nbconvert_exporter": "python",
   "pygments_lexer": "ipython3",
   "version": "3.9.18"
  }
 },
 "nbformat": 4,
 "nbformat_minor": 2
}
